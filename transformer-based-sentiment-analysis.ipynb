{
 "cells": [
  {
   "cell_type": "markdown",
   "id": "6310a5e2",
   "metadata": {
    "papermill": {
     "duration": 0.012148,
     "end_time": "2024-04-09T09:36:49.270331",
     "exception": false,
     "start_time": "2024-04-09T09:36:49.258183",
     "status": "completed"
    },
    "tags": []
   },
   "source": [
    "<div style=\"background-color: black; width: 700px; height: 340px; padding: 10px;\">\n",
    "<div style=\"color: #edc111; font-size: 40px; border-radius: 10px;\n",
    "            margin-bottom: 5px;\">\n",
    "About Dataset\n",
    "</div>\n",
    "<p style=\"color: white; font-size: 15px; text-align: justify;\">\n",
    "This dataset consists of reviews of fine foods from amazon. The data span a period of more than 10 years, including all ~500,000 reviews up to October 2012. Reviews include product and user information, ratings, and a plain text review. It also includes reviews from all other Amazon categories.\n",
    "</p>\n",
    "   <p style=\"color: #edc111; font-size: 20px;\">\n",
    "    Objectives\n",
    "</p>  \n",
    "    <ul style=\"color: white; font-size: 15px; text-align: justify;\">\n",
    "        <li>Perform exploratory data analysis (EDA).</li>\n",
    "        <li>Conduct data preprocessing and cleaning.</li>\n",
    "        <li>Evaluate transformer model performance.</li>\n",
    "        <li>Conduct temporal sentiment analysis.</li>\n",
    "        <li>Implement fine-tuning and transfer learning.</li>\n",
    "    </ul>\n",
    "</div>"
   ]
  },
  {
   "cell_type": "code",
   "execution_count": 1,
   "id": "3b7675e5",
   "metadata": {
    "_cell_guid": "b1076dfc-b9ad-4769-8c92-a6c4dae69d19",
    "_uuid": "8f2839f25d086af736a60e9eeb907d3b93b6e0e5",
    "execution": {
     "iopub.execute_input": "2024-04-09T09:36:49.316531Z",
     "iopub.status.busy": "2024-04-09T09:36:49.316223Z",
     "iopub.status.idle": "2024-04-09T09:37:02.185371Z",
     "shell.execute_reply": "2024-04-09T09:37:02.184584Z"
    },
    "id": "i8rQ6RKViQy1",
    "papermill": {
     "duration": 12.883605,
     "end_time": "2024-04-09T09:37:02.187624",
     "exception": false,
     "start_time": "2024-04-09T09:36:49.304019",
     "status": "completed"
    },
    "tags": []
   },
   "outputs": [
    {
     "name": "stderr",
     "output_type": "stream",
     "text": [
      "/opt/conda/lib/python3.10/site-packages/scipy/__init__.py:146: UserWarning: A NumPy version >=1.16.5 and <1.23.0 is required for this version of SciPy (detected version 1.24.3\n",
      "  warnings.warn(f\"A NumPy version >={np_minversion} and <{np_maxversion}\"\n"
     ]
    }
   ],
   "source": [
    "import polars as pl\n",
    "import pandas as pd\n",
    "import numpy as np\n",
    "import matplotlib.pyplot as plt\n",
    "import seaborn as sns\n",
    "import tensorflow as tf\n",
    "from tensorflow import keras\n",
    "from tensorflow.keras import layers\n",
    "from tensorflow.keras.models import Model\n",
    "from sklearn.preprocessing import LabelEncoder\n",
    "from sklearn.utils import compute_class_weight\n",
    "from collections import Counter\n",
    "from tensorflow.keras.callbacks import EarlyStopping\n",
    "import itertools\n",
    "import warnings\n",
    "warnings.filterwarnings(action=\"ignore\")\n",
    "from zipfile import ZipFile\n",
    "sns.set_style(\"darkgrid\")\n",
    "sns.set_palette(palette=[\"gray\", \"red\", \"green\"])\n",
    "import random\n",
    "import re"
   ]
  },
  {
   "cell_type": "code",
   "execution_count": 2,
   "id": "8798a1fb",
   "metadata": {
    "execution": {
     "iopub.execute_input": "2024-04-09T09:37:02.213453Z",
     "iopub.status.busy": "2024-04-09T09:37:02.212898Z",
     "iopub.status.idle": "2024-04-09T09:37:02.591841Z",
     "shell.execute_reply": "2024-04-09T09:37:02.590912Z"
    },
    "id": "zUG-k_1LiQy5",
    "outputId": "fb192b4f-ea24-4fe8-8836-df5d51ba7b5d",
    "papermill": {
     "duration": 0.394665,
     "end_time": "2024-04-09T09:37:02.593950",
     "exception": false,
     "start_time": "2024-04-09T09:37:02.199285",
     "status": "completed"
    },
    "tags": []
   },
   "outputs": [
    {
     "data": {
      "text/plain": [
       "[PhysicalDevice(name='/physical_device:GPU:0', device_type='GPU')]"
      ]
     },
     "execution_count": 2,
     "metadata": {},
     "output_type": "execute_result"
    }
   ],
   "source": [
    "tf.config.experimental.list_physical_devices('GPU')"
   ]
  },
  {
   "cell_type": "code",
   "execution_count": 3,
   "id": "b517e15a",
   "metadata": {
    "execution": {
     "iopub.execute_input": "2024-04-09T09:37:02.625032Z",
     "iopub.status.busy": "2024-04-09T09:37:02.624581Z",
     "iopub.status.idle": "2024-04-09T09:37:04.389436Z",
     "shell.execute_reply": "2024-04-09T09:37:04.388490Z"
    },
    "id": "gaxw5CCbiQy6",
    "outputId": "4e340deb-224a-4e43-951c-4352ab743fa3",
    "papermill": {
     "duration": 1.782187,
     "end_time": "2024-04-09T09:37:04.391617",
     "exception": false,
     "start_time": "2024-04-09T09:37:02.609430",
     "status": "completed"
    },
    "tags": []
   },
   "outputs": [
    {
     "data": {
      "text/html": [
       "<div><style>\n",
       ".dataframe > thead > tr,\n",
       ".dataframe > tbody > tr {\n",
       "  text-align: right;\n",
       "  white-space: pre-wrap;\n",
       "}\n",
       "</style>\n",
       "<small>shape: (5, 2)</small><table border=\"1\" class=\"dataframe\"><thead><tr><th>Score</th><th>Text</th></tr><tr><td>i64</td><td>str</td></tr></thead><tbody><tr><td>5</td><td>&quot;I have bought …</td></tr><tr><td>1</td><td>&quot;Product arrive…</td></tr><tr><td>4</td><td>&quot;This is a conf…</td></tr><tr><td>2</td><td>&quot;If you are loo…</td></tr><tr><td>5</td><td>&quot;Great taffy at…</td></tr></tbody></table></div>"
      ],
      "text/plain": [
       "shape: (5, 2)\n",
       "┌───────┬───────────────────────────────────┐\n",
       "│ Score ┆ Text                              │\n",
       "│ ---   ┆ ---                               │\n",
       "│ i64   ┆ str                               │\n",
       "╞═══════╪═══════════════════════════════════╡\n",
       "│ 5     ┆ I have bought several of the Vit… │\n",
       "│ 1     ┆ Product arrived labeled as Jumbo… │\n",
       "│ 4     ┆ This is a confection that has be… │\n",
       "│ 2     ┆ If you are looking for the secre… │\n",
       "│ 5     ┆ Great taffy at a great price.  T… │\n",
       "└───────┴───────────────────────────────────┘"
      ]
     },
     "execution_count": 3,
     "metadata": {},
     "output_type": "execute_result"
    }
   ],
   "source": [
    "df = pl.read_csv(\"Reviews.csv\")\n",
    "df = df.select(\"Score\", \"Text\")\n",
    "df.head()"
   ]
  },
  {
   "cell_type": "code",
   "execution_count": 4,
   "id": "905bad97",
   "metadata": {
    "execution": {
     "iopub.execute_input": "2024-04-09T09:37:04.416473Z",
     "iopub.status.busy": "2024-04-09T09:37:04.416185Z",
     "iopub.status.idle": "2024-04-09T09:37:04.421974Z",
     "shell.execute_reply": "2024-04-09T09:37:04.421097Z"
    },
    "id": "uQacQ4iriQy7",
    "outputId": "22c95b2f-80b7-4729-d2c4-7d8521e6b6da",
    "papermill": {
     "duration": 0.020481,
     "end_time": "2024-04-09T09:37:04.423919",
     "exception": false,
     "start_time": "2024-04-09T09:37:04.403438",
     "status": "completed"
    },
    "tags": []
   },
   "outputs": [
    {
     "data": {
      "text/plain": [
       "(568454, 2)"
      ]
     },
     "execution_count": 4,
     "metadata": {},
     "output_type": "execute_result"
    }
   ],
   "source": [
    "df.shape"
   ]
  },
  {
   "cell_type": "markdown",
   "id": "06f3ac01",
   "metadata": {
    "papermill": {
     "duration": 0.011704,
     "end_time": "2024-04-09T09:37:04.447610",
     "exception": false,
     "start_time": "2024-04-09T09:37:04.435906",
     "status": "completed"
    },
    "tags": []
   },
   "source": [
    "<div style=\"background-color: black; width: 450px; height: 200px; padding: 10px;\">\n",
    "    <p style=\"color: #edc111; font-size: 20px;\">\n",
    "        EDA & Preprocessing Data\n",
    "    </p>\n",
    "    <ul style=\"color: white; font-size: 15px; text-align: justify;\">\n",
    "        <li>Drop rows with null values.</li>\n",
    "        <li>Remove duplicate entries based on the \"Text\" column.</li>\n",
    "        <li>Remove tags, emails and URLs from the texts</li>\n",
    "        <li>Define a function 'get_sentiment' for sentiment categorization.</li>\n",
    "        <li>Analyze Sentences length.</li>\n",
    "        <li>Add \"sentiment\" column categorizing sentiment.</li>\n",
    "    </ul>\n",
    "</div>\n"
   ]
  },
  {
   "cell_type": "code",
   "execution_count": 5,
   "id": "e7af9fca",
   "metadata": {
    "execution": {
     "iopub.execute_input": "2024-04-09T09:37:04.472587Z",
     "iopub.status.busy": "2024-04-09T09:37:04.472312Z",
     "iopub.status.idle": "2024-04-09T09:37:05.311777Z",
     "shell.execute_reply": "2024-04-09T09:37:05.310762Z"
    },
    "id": "ViAD1wWXiQy7",
    "papermill": {
     "duration": 0.854631,
     "end_time": "2024-04-09T09:37:05.314244",
     "exception": false,
     "start_time": "2024-04-09T09:37:04.459613",
     "status": "completed"
    },
    "tags": []
   },
   "outputs": [],
   "source": [
    "df = df.drop_nulls()\n",
    "df = df.unique(subset = \"Text\")"
   ]
  },
  {
   "cell_type": "code",
   "execution_count": 6,
   "id": "2ecbde22",
   "metadata": {
    "execution": {
     "iopub.execute_input": "2024-04-09T09:37:05.339352Z",
     "iopub.status.busy": "2024-04-09T09:37:05.338850Z",
     "iopub.status.idle": "2024-04-09T09:37:05.344020Z",
     "shell.execute_reply": "2024-04-09T09:37:05.343141Z"
    },
    "id": "cnTsd2G9iQy8",
    "papermill": {
     "duration": 0.01973,
     "end_time": "2024-04-09T09:37:05.345992",
     "exception": false,
     "start_time": "2024-04-09T09:37:05.326262",
     "status": "completed"
    },
    "tags": []
   },
   "outputs": [],
   "source": [
    "def clean_text(text):\n",
    "    text = re.sub(r'@[\\w_]+', '', text)\n",
    "    text = re.sub(r'http\\S+|www\\S+|https\\S+', '', text, flags=re.MULTILINE)\n",
    "    text = re.sub(r'#\\w+', '', text)\n",
    "    text = re.sub(r'\\S*@\\S*\\s?', '', text)\n",
    "\n",
    "    return text.strip()"
   ]
  },
  {
   "cell_type": "code",
   "execution_count": 7,
   "id": "a3e0dec3",
   "metadata": {
    "execution": {
     "iopub.execute_input": "2024-04-09T09:37:05.370373Z",
     "iopub.status.busy": "2024-04-09T09:37:05.370103Z",
     "iopub.status.idle": "2024-04-09T09:37:23.078740Z",
     "shell.execute_reply": "2024-04-09T09:37:23.077783Z"
    },
    "id": "W6EJQKfw8YyZ",
    "papermill": {
     "duration": 17.723722,
     "end_time": "2024-04-09T09:37:23.081270",
     "exception": false,
     "start_time": "2024-04-09T09:37:05.357548",
     "status": "completed"
    },
    "tags": []
   },
   "outputs": [],
   "source": [
    "df = df.with_columns(clean_text = pl.col([\"Text\"]).apply(clean_text))"
   ]
  },
  {
   "cell_type": "code",
   "execution_count": 8,
   "id": "2cca0660",
   "metadata": {
    "execution": {
     "iopub.execute_input": "2024-04-09T09:37:23.107050Z",
     "iopub.status.busy": "2024-04-09T09:37:23.106442Z",
     "iopub.status.idle": "2024-04-09T09:37:23.110986Z",
     "shell.execute_reply": "2024-04-09T09:37:23.110060Z"
    },
    "papermill": {
     "duration": 0.019105,
     "end_time": "2024-04-09T09:37:23.112883",
     "exception": false,
     "start_time": "2024-04-09T09:37:23.093778",
     "status": "completed"
    },
    "tags": []
   },
   "outputs": [],
   "source": [
    "def get_sentiment(score): \n",
    "    if score > 3:\n",
    "        return \"Positive\"\n",
    "    elif score < 3:\n",
    "        return \"Negative\"\n",
    "    else:\n",
    "        return \"Neutral\""
   ]
  },
  {
   "cell_type": "code",
   "execution_count": 9,
   "id": "b57d6412",
   "metadata": {
    "execution": {
     "iopub.execute_input": "2024-04-09T09:37:23.137948Z",
     "iopub.status.busy": "2024-04-09T09:37:23.137147Z",
     "iopub.status.idle": "2024-04-09T09:37:25.572163Z",
     "shell.execute_reply": "2024-04-09T09:37:25.571265Z"
    },
    "papermill": {
     "duration": 2.449401,
     "end_time": "2024-04-09T09:37:25.574256",
     "exception": false,
     "start_time": "2024-04-09T09:37:23.124855",
     "status": "completed"
    },
    "tags": []
   },
   "outputs": [
    {
     "data": {
      "text/html": [
       "<div><style>\n",
       ".dataframe > thead > tr,\n",
       ".dataframe > tbody > tr {\n",
       "  text-align: right;\n",
       "  white-space: pre-wrap;\n",
       "}\n",
       "</style>\n",
       "<small>shape: (5, 5)</small><table border=\"1\" class=\"dataframe\"><thead><tr><th>Score</th><th>Text</th><th>clean_text</th><th>length</th><th>sentiment</th></tr><tr><td>i64</td><td>str</td><td>str</td><td>i64</td><td>str</td></tr></thead><tbody><tr><td>5</td><td>&quot;Rotini twist p…</td><td>&quot;Rotini twist p…</td><td>37</td><td>&quot;Positive&quot;</td></tr><tr><td>5</td><td>&quot;I&#x27;m 63 and hav…</td><td>&quot;I&#x27;m 63 and hav…</td><td>59</td><td>&quot;Positive&quot;</td></tr><tr><td>5</td><td>&quot;This is the be…</td><td>&quot;This is the be…</td><td>33</td><td>&quot;Positive&quot;</td></tr><tr><td>4</td><td>&quot;I enjoy a good…</td><td>&quot;I enjoy a good…</td><td>26</td><td>&quot;Positive&quot;</td></tr><tr><td>5</td><td>&quot;After doing a …</td><td>&quot;After doing a …</td><td>130</td><td>&quot;Positive&quot;</td></tr></tbody></table></div>"
      ],
      "text/plain": [
       "shape: (5, 5)\n",
       "┌───────┬──────────────────────────────────┬──────────────────────────────────┬────────┬───────────┐\n",
       "│ Score ┆ Text                             ┆ clean_text                       ┆ length ┆ sentiment │\n",
       "│ ---   ┆ ---                              ┆ ---                              ┆ ---    ┆ ---       │\n",
       "│ i64   ┆ str                              ┆ str                              ┆ i64    ┆ str       │\n",
       "╞═══════╪══════════════════════════════════╪══════════════════════════════════╪════════╪═══════════╡\n",
       "│ 5     ┆ Rotini twist pasta is excellent  ┆ Rotini twist pasta is excellent  ┆ 37     ┆ Positive  │\n",
       "│       ┆ …                                ┆ …                                ┆        ┆           │\n",
       "│ 5     ┆ I'm 63 and have enjoyed Corn     ┆ I'm 63 and have enjoyed Corn     ┆ 59     ┆ Positive  │\n",
       "│       ┆ Nut…                             ┆ Nut…                             ┆        ┆           │\n",
       "│ 5     ┆ This is the best green tea I've  ┆ This is the best green tea I've  ┆ 33     ┆ Positive  │\n",
       "│       ┆ …                                ┆ …                                ┆        ┆           │\n",
       "│ 4     ┆ I enjoy a good cup of coffee in  ┆ I enjoy a good cup of coffee in  ┆ 26     ┆ Positive  │\n",
       "│       ┆ …                                ┆ …                                ┆        ┆           │\n",
       "│ 5     ┆ After doing a TON of research    ┆ After doing a TON of research    ┆ 130    ┆ Positive  │\n",
       "│       ┆ an…                              ┆ an…                              ┆        ┆           │\n",
       "└───────┴──────────────────────────────────┴──────────────────────────────────┴────────┴───────────┘"
      ]
     },
     "execution_count": 9,
     "metadata": {},
     "output_type": "execute_result"
    }
   ],
   "source": [
    "df = df.with_columns(length = pl.col(\"clean_text\").apply(lambda x: len(str(x).split())),\n",
    "                    sentiment = pl.col(\"Score\").apply(get_sentiment))\n",
    "\n",
    "df.head()"
   ]
  },
  {
   "cell_type": "markdown",
   "id": "3ef01d1c",
   "metadata": {
    "papermill": {
     "duration": 0.011627,
     "end_time": "2024-04-09T09:37:25.597972",
     "exception": false,
     "start_time": "2024-04-09T09:37:25.586345",
     "status": "completed"
    },
    "tags": []
   },
   "source": [
    "<div style=\"background-color: black; width: 550px; padding: 10px; color: #edc111; font-size: 30px; border-radius: 10px;\n",
    "            margin-bottom: 5px;\">\n",
    "Distribution of sentiment Categories.\n",
    "</div>"
   ]
  },
  {
   "cell_type": "code",
   "execution_count": 10,
   "id": "2ed2b68c",
   "metadata": {
    "execution": {
     "iopub.execute_input": "2024-04-09T09:37:25.623453Z",
     "iopub.status.busy": "2024-04-09T09:37:25.622907Z",
     "iopub.status.idle": "2024-04-09T09:37:25.922206Z",
     "shell.execute_reply": "2024-04-09T09:37:25.921300Z"
    },
    "papermill": {
     "duration": 0.314277,
     "end_time": "2024-04-09T09:37:25.924417",
     "exception": false,
     "start_time": "2024-04-09T09:37:25.610140",
     "status": "completed"
    },
    "tags": []
   },
   "outputs": [
    {
     "data": {
      "image/png": "[encoded data removed]",
      "text/plain": [
       "<Figure size 640x480 with 1 Axes>"
      ]
     },
     "metadata": {},
     "output_type": "display_data"
    }
   ],
   "source": [
    "sentiment_counts = df.groupby(\"sentiment\").count()\n",
    "\n",
    "ax, *_ = plt.pie(\n",
    "    x=sentiment_counts[\"count\"], \n",
    "    labels=sentiment_counts[\"sentiment\"],\n",
    "    autopct=lambda p: f'{p:.2f}%\\n({int(p*sum(sentiment_counts[\"count\"])/100)})', \n",
    "    wedgeprops=dict(width=0.7),\n",
    "    textprops = dict(size=10),\n",
    "    pctdistance = 0.7)\n",
    "\n",
    "center_circle = plt.Circle((0, 0), 0.1, color='black', fc='white', linewidth=1.25)\n",
    "fig = plt.gcf()\n",
    "fig.gca().add_artist(center_circle)\n",
    "plt.title(\"Distribution of sentiment labels\", weight=\"bold\")\n",
    "plt.show()"
   ]
  },
  {
   "cell_type": "markdown",
   "id": "7a5f2bfd",
   "metadata": {
    "papermill": {
     "duration": 0.012402,
     "end_time": "2024-04-09T09:37:25.993244",
     "exception": false,
     "start_time": "2024-04-09T09:37:25.980842",
     "status": "completed"
    },
    "tags": []
   },
   "source": [
    "<p style=\"color: #edc111; font-size: 22px;\">\n",
    "        The dataset is highly imbalanced so I'll downsample the majority class.\n",
    "    </p>"
   ]
  },
  {
   "cell_type": "code",
   "execution_count": 11,
   "id": "93d03a07",
   "metadata": {
    "execution": {
     "iopub.execute_input": "2024-04-09T09:37:26.020494Z",
     "iopub.status.busy": "2024-04-09T09:37:26.019509Z",
     "iopub.status.idle": "2024-04-09T09:37:26.921082Z",
     "shell.execute_reply": "2024-04-09T09:37:26.920302Z"
    },
    "papermill": {
     "duration": 0.917586,
     "end_time": "2024-04-09T09:37:26.923353",
     "exception": false,
     "start_time": "2024-04-09T09:37:26.005767",
     "status": "completed"
    },
    "tags": []
   },
   "outputs": [],
   "source": [
    "neu_df = df.filter(pl.col(\"sentiment\") == \"Neutral\")\n",
    "neg_df = df.filter(pl.col(\"sentiment\") == \"Negative\")\n",
    "pos_df = df.filter(pl.col(\"sentiment\") == \"Positive\")\n",
    "pos_df = pos_df.sample(len(neg_df))\n",
    "\n",
    "df2 = pl.concat((neg_df, neu_df, pos_df), how=\"vertical\")"
   ]
  },
  {
   "cell_type": "code",
   "execution_count": 12,
   "id": "b7caed8d",
   "metadata": {
    "execution": {
     "iopub.execute_input": "2024-04-09T09:37:26.951353Z",
     "iopub.status.busy": "2024-04-09T09:37:26.950759Z",
     "iopub.status.idle": "2024-04-09T09:37:26.964468Z",
     "shell.execute_reply": "2024-04-09T09:37:26.963623Z"
    },
    "papermill": {
     "duration": 0.030011,
     "end_time": "2024-04-09T09:37:26.966219",
     "exception": false,
     "start_time": "2024-04-09T09:37:26.936208",
     "status": "completed"
    },
    "tags": []
   },
   "outputs": [],
   "source": [
    "del neu_df, neg_df, pos_df, df  #To clear RAM due to the size of the dataset."
   ]
  },
  {
   "cell_type": "markdown",
   "id": "82690d7b",
   "metadata": {
    "papermill": {
     "duration": 0.012205,
     "end_time": "2024-04-09T09:37:26.990901",
     "exception": false,
     "start_time": "2024-04-09T09:37:26.978696",
     "status": "completed"
    },
    "tags": []
   },
   "source": [
    "<div style=\"background-color: black; width: 500px; padding: 10px; color: #edc111; font-size: 30px; border-radius: 10px;\n",
    "            margin-bottom: 5px;\">\n",
    "Distribution of Sentences length.\n",
    "</div>"
   ]
  },
  {
   "cell_type": "code",
   "execution_count": 13,
   "id": "5d29f107",
   "metadata": {
    "execution": {
     "iopub.execute_input": "2024-04-09T09:37:27.016723Z",
     "iopub.status.busy": "2024-04-09T09:37:27.016422Z",
     "iopub.status.idle": "2024-04-09T09:37:28.713797Z",
     "shell.execute_reply": "2024-04-09T09:37:28.712902Z"
    },
    "id": "vmBpgfMziQy9",
    "outputId": "79d53041-5471-48ce-c62d-8e0998cd715d",
    "papermill": {
     "duration": 1.712918,
     "end_time": "2024-04-09T09:37:28.716178",
     "exception": false,
     "start_time": "2024-04-09T09:37:27.003260",
     "status": "completed"
    },
    "tags": []
   },
   "outputs": [
    {
     "data": {
      "image/png": "[encoded data removed]",
      "text/plain": [
       "<Figure size 600x400 with 1 Axes>"
      ]
     },
     "metadata": {},
     "output_type": "display_data"
    }
   ],
   "source": [
    "fig = plt.figure(figsize=(6, 4))\n",
    "sns.kdeplot(data=df2.to_pandas(), x=\"length\", shade=True, hue=\"sentiment\", clip=[0, 400])\n",
    "plt.title(\"Distribution of sentence length\", size=13, weight=\"bold\")\n",
    "plt.show()"
   ]
  },
  {
   "cell_type": "code",
   "execution_count": 14,
   "id": "798b21ec",
   "metadata": {
    "execution": {
     "iopub.execute_input": "2024-04-09T09:37:28.745746Z",
     "iopub.status.busy": "2024-04-09T09:37:28.745405Z",
     "iopub.status.idle": "2024-04-09T09:37:28.820092Z",
     "shell.execute_reply": "2024-04-09T09:37:28.819264Z"
    },
    "id": "yOrvnPKHiQy-",
    "papermill": {
     "duration": 0.092012,
     "end_time": "2024-04-09T09:37:28.822325",
     "exception": false,
     "start_time": "2024-04-09T09:37:28.730313",
     "status": "completed"
    },
    "tags": []
   },
   "outputs": [],
   "source": [
    "target = df2[\"sentiment\"]\n",
    "label_encoder = LabelEncoder()\n",
    "target = label_encoder.fit_transform(target)"
   ]
  },
  {
   "cell_type": "markdown",
   "id": "6a04cc13",
   "metadata": {
    "papermill": {
     "duration": 0.013792,
     "end_time": "2024-04-09T09:37:28.849946",
     "exception": false,
     "start_time": "2024-04-09T09:37:28.836154",
     "status": "completed"
    },
    "tags": []
   },
   "source": [
    "<div style=\"background-color: black; width: 760px; padding: 10px; color: #edc111; font-size: 30px; border-radius: 10px;\n",
    "            margin-bottom: 5px; text-align: center\">\n",
    "Splitting the data to Training, Testing & Validation set\n",
    "</div>"
   ]
  },
  {
   "cell_type": "code",
   "execution_count": 15,
   "id": "9119d4ff",
   "metadata": {
    "execution": {
     "iopub.execute_input": "2024-04-09T09:37:28.881985Z",
     "iopub.status.busy": "2024-04-09T09:37:28.881132Z",
     "iopub.status.idle": "2024-04-09T09:37:28.890293Z",
     "shell.execute_reply": "2024-04-09T09:37:28.889343Z"
    },
    "id": "-AoPKDn6iQy_",
    "papermill": {
     "duration": 0.028044,
     "end_time": "2024-04-09T09:37:28.892406",
     "exception": false,
     "start_time": "2024-04-09T09:37:28.864362",
     "status": "completed"
    },
    "tags": []
   },
   "outputs": [],
   "source": [
    "def split_data(X, y = None, *, train_ratio=0.7, test_ratio=0.15, validation_ratio=0.15, seed=None):\n",
    "    if train_ratio + test_ratio + validation_ratio != 1.0:\n",
    "        raise ValueError(\"Ratios should add up to 1.0\")\n",
    "\n",
    "    total_length = len(X)\n",
    "    train_size = int(train_ratio * total_length)\n",
    "    test_size = int(test_ratio * total_length)\n",
    "\n",
    "    if seed is not None:\n",
    "        np.random.seed(seed)\n",
    "    index = np.random.permutation(np.arange(total_length))\n",
    "    X = np.array(X)[index]\n",
    "\n",
    "    train_X = X[:train_size]\n",
    "    test_X = X[train_size:train_size + test_size]\n",
    "    validation_X = X[train_size + test_size:]\n",
    "\n",
    "    if y is not None:\n",
    "        y = y[index]\n",
    "        train_y = y[:train_size]\n",
    "        test_y = y[train_size:train_size + test_size]\n",
    "        validation_y = y[train_size + test_size:]\n",
    "\n",
    "        return (train_X, train_y), (test_X, test_y), (validation_X, validation_y)\n",
    "    return train_X, test_X, validation_X"
   ]
  },
  {
   "cell_type": "code",
   "execution_count": 16,
   "id": "607fd1d0",
   "metadata": {
    "execution": {
     "iopub.execute_input": "2024-04-09T09:37:28.924365Z",
     "iopub.status.busy": "2024-04-09T09:37:28.924019Z",
     "iopub.status.idle": "2024-04-09T09:37:56.484386Z",
     "shell.execute_reply": "2024-04-09T09:37:56.483549Z"
    },
    "id": "tG5szcvYiQzA",
    "papermill": {
     "duration": 27.578895,
     "end_time": "2024-04-09T09:37:56.486594",
     "exception": false,
     "start_time": "2024-04-09T09:37:28.907699",
     "status": "completed"
    },
    "tags": []
   },
   "outputs": [],
   "source": [
    "train_data, test_data, validation_data = split_data(\n",
    "    df2[\"clean_text\"],\n",
    "    target,\n",
    "    train_ratio=0.7,\n",
    "    test_ratio=0.15,\n",
    "    validation_ratio=0.15,\n",
    "    seed=42)"
   ]
  },
  {
   "cell_type": "markdown",
   "id": "caf85d86",
   "metadata": {
    "papermill": {
     "duration": 0.013122,
     "end_time": "2024-04-09T09:37:56.513941",
     "exception": false,
     "start_time": "2024-04-09T09:37:56.500819",
     "status": "completed"
    },
    "tags": []
   },
   "source": [
    "\n",
    "<div style=\"background-color: black; width: 730px; padding: 10px; color: #edc111; font-size: 30px; border-radius: 10px;\n",
    "            margin-bottom: 2px; text-align: center\">\n",
    "Vectorizing and preparing Tensorflow Datasets.\n",
    "</div>\n",
    "\n",
    "<ul style=\"background-color: black; width: 730px; color: white; font-size: 15px; text-align: justify; padding: 10px; padding-left: 40px; border-radius: 10px;\">\n",
    "    <li><b>max_tokens:</b> Limits vocabulary size to $40,000$ tokens for memory efficiency.</li>\n",
    "    <li><b>seq_len:</b> Sets max sequence length for input sequences to $150$ tokens.</li>\n",
    "    <li><b>batch_size:</b> Specifies $64$ samples processed in each training iteration.</li>\n",
    "</ul>"
   ]
  },
  {
   "cell_type": "code",
   "execution_count": 17,
   "id": "b22a27c2",
   "metadata": {
    "execution": {
     "iopub.execute_input": "2024-04-09T09:37:56.541631Z",
     "iopub.status.busy": "2024-04-09T09:37:56.541319Z",
     "iopub.status.idle": "2024-04-09T09:38:12.468520Z",
     "shell.execute_reply": "2024-04-09T09:38:12.467621Z"
    },
    "id": "kuo95NPjiQzB",
    "papermill": {
     "duration": 15.943645,
     "end_time": "2024-04-09T09:38:12.470846",
     "exception": false,
     "start_time": "2024-04-09T09:37:56.527201",
     "status": "completed"
    },
    "tags": []
   },
   "outputs": [],
   "source": [
    "max_tokens = 40000\n",
    "seq_len = 200\n",
    "batch_size = 64\n",
    "\n",
    "feature_vectorizer = layers.TextVectorization(\n",
    "    max_tokens=max_tokens,\n",
    "    standardize='lower_and_strip_punctuation',\n",
    "    output_mode='int',\n",
    "    output_sequence_length=seq_len,\n",
    "    encoding='utf-8',)\n",
    "\n",
    "feature_vectorizer.adapt(train_data[0])"
   ]
  },
  {
   "cell_type": "code",
   "execution_count": 18,
   "id": "36972340",
   "metadata": {
    "execution": {
     "iopub.execute_input": "2024-04-09T09:38:12.499785Z",
     "iopub.status.busy": "2024-04-09T09:38:12.499467Z",
     "iopub.status.idle": "2024-04-09T09:38:28.255350Z",
     "shell.execute_reply": "2024-04-09T09:38:28.254529Z"
    },
    "id": "EK4sfgVsiQzB",
    "papermill": {
     "duration": 15.772984,
     "end_time": "2024-04-09T09:38:28.257731",
     "exception": false,
     "start_time": "2024-04-09T09:38:12.484747",
     "status": "completed"
    },
    "tags": []
   },
   "outputs": [],
   "source": [
    "X_train = feature_vectorizer(train_data[0])\n",
    "X_test = feature_vectorizer(test_data[0])\n",
    "X_valid = feature_vectorizer(validation_data[0])\n",
    "\n",
    "y_train = train_data[1]\n",
    "y_test = test_data[1]\n",
    "y_valid = validation_data[1]"
   ]
  },
  {
   "cell_type": "code",
   "execution_count": 19,
   "id": "56fbd1bc",
   "metadata": {
    "execution": {
     "iopub.execute_input": "2024-04-09T09:38:28.287137Z",
     "iopub.status.busy": "2024-04-09T09:38:28.286364Z",
     "iopub.status.idle": "2024-04-09T09:38:28.290882Z",
     "shell.execute_reply": "2024-04-09T09:38:28.290014Z"
    },
    "papermill": {
     "duration": 0.020798,
     "end_time": "2024-04-09T09:38:28.292765",
     "exception": false,
     "start_time": "2024-04-09T09:38:28.271967",
     "status": "completed"
    },
    "tags": []
   },
   "outputs": [],
   "source": [
    "del train_data, target, validation_data"
   ]
  },
  {
   "cell_type": "code",
   "execution_count": 20,
   "id": "db58863c",
   "metadata": {
    "execution": {
     "iopub.execute_input": "2024-04-09T09:38:28.320397Z",
     "iopub.status.busy": "2024-04-09T09:38:28.320122Z",
     "iopub.status.idle": "2024-04-09T09:38:28.344746Z",
     "shell.execute_reply": "2024-04-09T09:38:28.344029Z"
    },
    "id": "QvXxnfajiQzB",
    "papermill": {
     "duration": 0.040573,
     "end_time": "2024-04-09T09:38:28.346715",
     "exception": false,
     "start_time": "2024-04-09T09:38:28.306142",
     "status": "completed"
    },
    "tags": []
   },
   "outputs": [],
   "source": [
    "train_ds = tf.data.Dataset.from_tensor_slices((X_train, y_train))\n",
    "test_ds = tf.data.Dataset.from_tensor_slices((X_test, y_test))\n",
    "val_ds = tf.data.Dataset.from_tensor_slices((X_valid, y_valid))\n",
    "\n",
    "train_ds = train_ds.shuffle(5000).batch(batch_size, drop_remainder=True).prefetch(tf.data.AUTOTUNE)\n",
    "test_ds = test_ds.shuffle(5000).batch(batch_size, drop_remainder=True).prefetch(tf.data.AUTOTUNE)\n",
    "val_ds = val_ds.shuffle(5000).batch(batch_size, drop_remainder=True).prefetch(tf.data.AUTOTUNE)"
   ]
  },
  {
   "cell_type": "code",
   "execution_count": 21,
   "id": "d15e0f0a",
   "metadata": {
    "execution": {
     "iopub.execute_input": "2024-04-09T09:38:28.375462Z",
     "iopub.status.busy": "2024-04-09T09:38:28.374818Z",
     "iopub.status.idle": "2024-04-09T09:38:28.520317Z",
     "shell.execute_reply": "2024-04-09T09:38:28.519171Z"
    },
    "id": "9nA8bA1hiQzB",
    "outputId": "acd24465-0225-4a8c-e6bf-1f242a4dfe3b",
    "papermill": {
     "duration": 0.162452,
     "end_time": "2024-04-09T09:38:28.522613",
     "exception": false,
     "start_time": "2024-04-09T09:38:28.360161",
     "status": "completed"
    },
    "tags": []
   },
   "outputs": [
    {
     "name": "stdout",
     "output_type": "stream",
     "text": [
      "tf.Tensor([200], shape=(1,), dtype=int32)\n",
      "\n",
      "Inputs: [  153     7    17    40    33    12 14496    15    43    14    78     7\n",
      "    12  7522     2   358    93     0     0     0]\n",
      "Target: 2\n",
      "tf.Tensor([200], shape=(1,), dtype=int32)\n",
      "\n",
      "Inputs: [  11    2  532    3   19  149   44   96  648  317    2 1546  134  140\n",
      "    3  156  141 1351    8 1545]\n",
      "Target: 0\n"
     ]
    }
   ],
   "source": [
    "for inputs, target in train_ds.take(1).as_numpy_iterator():\n",
    "    for i in range(2):\n",
    "        print(tf.shape(inputs[i]))\n",
    "        print()\n",
    "        print(\"Inputs:\", inputs[i, :20])\n",
    "        print(\"Target:\", target[i])"
   ]
  },
  {
   "cell_type": "markdown",
   "id": "0c3471c3",
   "metadata": {
    "papermill": {
     "duration": 0.013344,
     "end_time": "2024-04-09T09:38:28.550157",
     "exception": false,
     "start_time": "2024-04-09T09:38:28.536813",
     "status": "completed"
    },
    "tags": []
   },
   "source": [
    "<div style=\"background-color: black; width: 720px; color: #edc111; font-size: 40px; padding: 16px; border-radius: 10px;\n",
    "margin-bottom: 1px; margin-top: 20px;\">\n",
    "The Transformer Encoder Block\n",
    "</div>\n",
    "<div style=\"background-color: black; width: 720px; color: #edc111; font-size: 40px; padding: 16px; border-radius: 10px;\n",
    "margin-bottom: 5px; margin-top: 20px;\">\n",
    "\n",
    "<p style=\"background-color: black; width: 700px; color: white; font-size: 15px;\">\n",
    "The Transformer Encoder Block, a key component in transformer-based models, consists of several integral elements:\n",
    "</p>\n",
    "<ul style=\"color: white; font-size: 15px;\">\n",
    "<li>\n",
    "<b>Positional Encoding:</b> This component addresses the lack of inherent sequential information in transformers. It adds positional information to word embeddings using sine and cosine functions. The formula for the positional encoding is:\n",
    "<br>\n",
    "\\[\n",
    "PE(pos, 2i) = sin\\left(\\frac{pos}{10000^{2i/d}}\\right)\n",
    "\\]\n",
    "\\[\n",
    "PE(pos, 2i+1) = cos\\left(\\frac{pos}{10000^{2i/d}}\\right)\n",
    "\\]\n",
    "Where \\(pos\\) is the position of the word, \\(i\\) is the dimension, and \\(d\\) is the embedding dimension. Significance: Enables the model to understand the sequential order of tokens.<br>\n",
    "<span style=\"color: #edc111;\"><strong>NB:</strong> In this notebook, I made the Positional Encoding a learnable layer instead of the <strong>sine</strong> and <strong>cosine</strong> in the original paper.</span>\n",
    "</li>\n",
    "\n",
    "<li>\n",
    "<b>Multihead Attention:</b> This mechanism allows the model to focus on different aspects of the input sequence simultaneously. It computes attention scores using queries, keys, and values. The formula for scaled dot-product attention is:\n",
    "\\[\n",
    "\\text{Attention}(Q, K, V) = \\text{softmax}\\left(\\frac{QK^T}{\\sqrt{d_k}}\\right) \\cdot V\n",
    "\\]\n",
    "Significance: Captures diverse relationships between words and helps the model handle long-range dependencies more effectively.\n",
    "</li>\n",
    "\n",
    "<li>\n",
    "<b>Layer Normalization:</b> Applied after attention mechanisms and feedforward networks, layer normalization normalizes the values across features for each instance. The formula is:\n",
    "\\[\n",
    "\\text{LayerNorm}(x) = \\frac{x - \\text{mean}(x)}{\\sqrt{\\text{var}(x) + \\epsilon}} \\cdot \\gamma + \\beta\n",
    "\\]\n",
    "Where \\(\\gamma\\) and \\(\\beta\\) are learnable parameters. Significance: Enhances training stability and accelerates convergence.\n",
    "</li>\n",
    "\n",
    "<li>\n",
    "<b>Feedforward Neural Network:</b> Comprises two linear transformations with a ReLU activation in between. The formula for the feedforward layer is:\n",
    "\\[\n",
    "\\text{FFN}(x) = \\text{ReLU}(W_1x + b_1) \\cdot W_2 + b_2\n",
    "\\]\n",
    "Significance: Introduces non-linearity and complex representations to the model.\n",
    "</li>\n",
    "\n",
    "<li>\n",
    "<b>Residual Connections:</b> Utilizes skip connections to enable the flow of information through the block. The output of each sub-layer is added to its input. Significance: Facilitates smoother gradient flow during training.\n",
    "</li>\n",
    "</ul>\n",
    "</div>\n"
   ]
  },
  {
   "cell_type": "code",
   "execution_count": 22,
   "id": "d6c5da32",
   "metadata": {
    "execution": {
     "iopub.execute_input": "2024-04-09T09:38:28.578495Z",
     "iopub.status.busy": "2024-04-09T09:38:28.578173Z",
     "iopub.status.idle": "2024-04-09T09:38:28.586818Z",
     "shell.execute_reply": "2024-04-09T09:38:28.586127Z"
    },
    "id": "B03E-MmiiQzC",
    "papermill": {
     "duration": 0.024855,
     "end_time": "2024-04-09T09:38:28.588588",
     "exception": false,
     "start_time": "2024-04-09T09:38:28.563733",
     "status": "completed"
    },
    "tags": []
   },
   "outputs": [],
   "source": [
    "class TransformerBlock(layers.Layer):\n",
    "    def __init__(self, emb_dim, num_heads, ff_dim, dropout, **kwargs):\n",
    "        super().__init__(**kwargs)\n",
    "        self.emb_dim = emb_dim\n",
    "        self.num_heads = num_heads\n",
    "        self.ff_dim = ff_dim\n",
    "        self.attention = layers.MultiHeadAttention(self.num_heads, self.emb_dim,)\n",
    "        self.layer_norm1 = layers.LayerNormalization()\n",
    "        self.layer_norm2 = layers.LayerNormalization()\n",
    "        self.fc = layers.Dense(self.ff_dim, activation=\"relu\")\n",
    "        self.dropout = layers.Dropout(dropout)\n",
    "\n",
    "    def call(self, inputs):\n",
    "        att_outputs = self.attention(inputs, inputs)\n",
    "        att_outputs = self.dropout(att_outputs)\n",
    "        x = self.layer_norm1(inputs+att_outputs)\n",
    "        fc_output = self.fc(x)\n",
    "        return self.layer_norm2(x + fc_output)\n",
    "\n",
    "    def get_config(self):\n",
    "        config = super().get_config()\n",
    "        config.update({\n",
    "            \"embedding_dim\": self.emb_dim,\n",
    "            \"num_heads\": self.num_heads,\n",
    "            \"hidden_dim\": self.ff_dim\n",
    "        })\n",
    "        return config"
   ]
  },
  {
   "cell_type": "code",
   "execution_count": 23,
   "id": "010a72fe",
   "metadata": {
    "execution": {
     "iopub.execute_input": "2024-04-09T09:38:28.616343Z",
     "iopub.status.busy": "2024-04-09T09:38:28.616060Z",
     "iopub.status.idle": "2024-04-09T09:38:28.622490Z",
     "shell.execute_reply": "2024-04-09T09:38:28.621683Z"
    },
    "id": "PfSP41BDiQzC",
    "papermill": {
     "duration": 0.022304,
     "end_time": "2024-04-09T09:38:28.624281",
     "exception": false,
     "start_time": "2024-04-09T09:38:28.601977",
     "status": "completed"
    },
    "tags": []
   },
   "outputs": [],
   "source": [
    "class TokenAndPositionalEmbedding(layers.Layer):\n",
    "    def __init__(self, emb_dim, seq_len, **kwargs):\n",
    "        super().__init__(**kwargs)\n",
    "        self.emb_dim = emb_dim\n",
    "        self.vectorizer = feature_vectorizer\n",
    "        self.seq_len = seq_len\n",
    "        self.vocab_size = self.vectorizer.vocabulary_size()\n",
    "        self.token_embeddings = layers.Embedding(self.vocab_size, self.emb_dim, mask_zero=True)\n",
    "        self.pos_embeddings = layers.Embedding(self.seq_len, self.emb_dim)\n",
    "\n",
    "    def call(self, inputs):\n",
    "        x = self.token_embeddings(inputs)\n",
    "        positions = tf.range(0, self.seq_len)\n",
    "        pos_emb = self.pos_embeddings(positions)\n",
    "        return x + pos_emb"
   ]
  },
  {
   "cell_type": "code",
   "execution_count": 24,
   "id": "80727014",
   "metadata": {
    "execution": {
     "iopub.execute_input": "2024-04-09T09:38:28.652268Z",
     "iopub.status.busy": "2024-04-09T09:38:28.652018Z",
     "iopub.status.idle": "2024-04-09T09:38:28.659396Z",
     "shell.execute_reply": "2024-04-09T09:38:28.658693Z"
    },
    "id": "5jwR3L5UiQzD",
    "papermill": {
     "duration": 0.023353,
     "end_time": "2024-04-09T09:38:28.661285",
     "exception": false,
     "start_time": "2024-04-09T09:38:28.637932",
     "status": "completed"
    },
    "tags": []
   },
   "outputs": [],
   "source": [
    "class SentimentModel(Model):\n",
    "\n",
    "    @classmethod\n",
    "    def add_method(cls, func):\n",
    "        setattr(cls, func.__name__, func)\n",
    "        return func\n",
    "\n",
    "    def __init__(self, emb_dim, num_heads, ff_dim, seq_len, dropout, output_shape, **kwargs):\n",
    "        super().__init__(**kwargs)\n",
    "        self.seq_len = seq_len\n",
    "        self.embeddings = TokenAndPositionalEmbedding(emb_dim, seq_len)\n",
    "        self.encoder = TransformerBlock(emb_dim, num_heads, ff_dim, dropout, name=\"transform-block\")\n",
    "        self.pooling = layers.GlobalAveragePooling1D()\n",
    "        self.dropout = layers.Dropout(dropout)\n",
    "        self.fc = layers.Dense(output_shape, activation=\"softmax\")\n",
    "\n",
    "    def call(self, inputs):\n",
    "        x = self.embeddings(inputs)\n",
    "        x = self.encoder(x)\n",
    "        x = self.pooling(x)\n",
    "        x = self.dropout(x)\n",
    "        outputs = self.fc(x)\n",
    "        return outputs"
   ]
  },
  {
   "cell_type": "code",
   "execution_count": 25,
   "id": "a0b9348e",
   "metadata": {
    "execution": {
     "iopub.execute_input": "2024-04-09T09:38:28.688515Z",
     "iopub.status.busy": "2024-04-09T09:38:28.688270Z",
     "iopub.status.idle": "2024-04-09T09:38:29.057762Z",
     "shell.execute_reply": "2024-04-09T09:38:29.056698Z"
    },
    "id": "UNgEV-eeiQzD",
    "outputId": "e2468636-d1c6-4ece-f8a5-636f1fd67edd",
    "papermill": {
     "duration": 0.385484,
     "end_time": "2024-04-09T09:38:29.059942",
     "exception": false,
     "start_time": "2024-04-09T09:38:28.674458",
     "status": "completed"
    },
    "tags": []
   },
   "outputs": [
    {
     "name": "stdout",
     "output_type": "stream",
     "text": [
      "Model: \"sentiment_model\"\n",
      "_________________________________________________________________\n",
      " Layer (type)                Output Shape              Param #   \n",
      "=================================================================\n",
      " token_and_positional_embed  multiple                  10291200  \n",
      " ding (TokenAndPositionalEm                                      \n",
      " bedding)                                                        \n",
      "                                                                 \n",
      " transform-block (Transform  multiple                  1381632   \n",
      " erBlock)                                                        \n",
      "                                                                 \n",
      " global_average_pooling1d (  multiple                  0         \n",
      " GlobalAveragePooling1D)                                         \n",
      "                                                                 \n",
      " dropout_1 (Dropout)         multiple                  0         \n",
      "                                                                 \n",
      " dense_1 (Dense)             multiple                  771       \n",
      "                                                                 \n",
      "=================================================================\n",
      "Total params: 11673603 (44.53 MB)\n",
      "Trainable params: 11673603 (44.53 MB)\n",
      "Non-trainable params: 0 (0.00 Byte)\n",
      "_________________________________________________________________\n"
     ]
    }
   ],
   "source": [
    "emb_dim = 256\n",
    "num_heads = 5\n",
    "ff_dim = 256\n",
    "dropout = 0.50\n",
    "output_shape = 3\n",
    "\n",
    "model = SentimentModel(emb_dim, num_heads, ff_dim, seq_len, dropout, output_shape)\n",
    "model.build(input_shape=(None, seq_len))\n",
    "model.summary()"
   ]
  },
  {
   "cell_type": "code",
   "execution_count": 26,
   "id": "478c654f",
   "metadata": {
    "execution": {
     "iopub.execute_input": "2024-04-09T09:38:29.096224Z",
     "iopub.status.busy": "2024-04-09T09:38:29.095885Z",
     "iopub.status.idle": "2024-04-09T09:38:29.114963Z",
     "shell.execute_reply": "2024-04-09T09:38:29.114001Z"
    },
    "id": "JAXVqF0eiQzD",
    "papermill": {
     "duration": 0.039408,
     "end_time": "2024-04-09T09:38:29.117027",
     "exception": false,
     "start_time": "2024-04-09T09:38:29.077619",
     "status": "completed"
    },
    "tags": []
   },
   "outputs": [],
   "source": [
    "loss = keras.losses.SparseCategoricalCrossentropy()\n",
    "optimizer = keras.optimizers.Adam()\n",
    "\n",
    "model.compile(optimizer=optimizer, loss=loss, metrics=[\"acc\"])"
   ]
  },
  {
   "cell_type": "code",
   "execution_count": 27,
   "id": "5bce1ffa",
   "metadata": {
    "execution": {
     "iopub.execute_input": "2024-04-09T09:38:29.154216Z",
     "iopub.status.busy": "2024-04-09T09:38:29.153411Z",
     "iopub.status.idle": "2024-04-09T09:45:57.139344Z",
     "shell.execute_reply": "2024-04-09T09:45:57.138270Z"
    },
    "id": "QWNFxWWGiQzE",
    "outputId": "1b30bda8-687f-471c-9b10-2f0b201ac861",
    "papermill": {
     "duration": 448.007248,
     "end_time": "2024-04-09T09:45:57.141776",
     "exception": false,
     "start_time": "2024-04-09T09:38:29.134528",
     "status": "completed"
    },
    "tags": []
   },
   "outputs": [
    {
     "name": "stdout",
     "output_type": "stream",
     "text": [
      "Epoch 1/10\n",
      "1573/1573 [==============================] - 144s 89ms/step - loss: 0.7003 - acc: 0.6963 - val_loss: 0.7031 - val_acc: 0.7259\n",
      "Epoch 2/10\n",
      "1573/1573 [==============================] - 81s 52ms/step - loss: 0.5534 - acc: 0.7709 - val_loss: 0.6321 - val_acc: 0.7363\n",
      "Epoch 3/10\n",
      "1573/1573 [==============================] - 76s 48ms/step - loss: 0.4746 - acc: 0.8064 - val_loss: 0.7406 - val_acc: 0.7036\n",
      "Epoch 4/10\n",
      "1573/1573 [==============================] - 74s 47ms/step - loss: 0.3683 - acc: 0.8523 - val_loss: 0.8856 - val_acc: 0.6973\n",
      "Epoch 5/10\n",
      "1573/1573 [==============================] - 73s 46ms/step - loss: 0.2719 - acc: 0.8942 - val_loss: 1.1558 - val_acc: 0.6904\n"
     ]
    }
   ],
   "source": [
    "epochs = 10\n",
    "early_stopping = EarlyStopping(patience=3, min_delta=1e-2, monitor=\"val_loss\", restore_best_weights=True)\n",
    "\n",
    "history = model.fit(\n",
    "    train_ds,\n",
    "    epochs = epochs,\n",
    "    callbacks=[early_stopping],\n",
    "    validation_data=val_ds)"
   ]
  },
  {
   "cell_type": "markdown",
   "id": "fcd915cd",
   "metadata": {
    "papermill": {
     "duration": 0.346954,
     "end_time": "2024-04-09T09:45:57.886827",
     "exception": false,
     "start_time": "2024-04-09T09:45:57.539873",
     "status": "completed"
    },
    "tags": []
   },
   "source": [
    "<div style=\"background-color: black; width: 300px; padding: 10px; color: #edc111; font-size: 30px; border-radius: 10px;\n",
    "            margin-bottom: 2px;\">\n",
    "Qualitative Evaluation\n",
    "</div>"
   ]
  },
  {
   "cell_type": "code",
   "execution_count": 28,
   "id": "ee321d1b",
   "metadata": {
    "execution": {
     "iopub.execute_input": "2024-04-09T09:45:58.588057Z",
     "iopub.status.busy": "2024-04-09T09:45:58.587303Z",
     "iopub.status.idle": "2024-04-09T09:45:58.593370Z",
     "shell.execute_reply": "2024-04-09T09:45:58.592507Z"
    },
    "id": "jSfsDdSoiQzE",
    "papermill": {
     "duration": 0.36111,
     "end_time": "2024-04-09T09:45:58.595252",
     "exception": false,
     "start_time": "2024-04-09T09:45:58.234142",
     "status": "completed"
    },
    "tags": []
   },
   "outputs": [],
   "source": [
    "@model.add_method\n",
    "def classify_sentence(self, sentence):\n",
    "    tokens = self.embeddings.vectorizer(sentence)\n",
    "    tokens = tf.expand_dims(tokens, 0)\n",
    "    proba = self(tokens)\n",
    "    preds = tf.argmax(proba, axis = 1).numpy()\n",
    "    return {\n",
    "        \"Predicted\": label_encoder.inverse_transform(preds)[0],\n",
    "        \"Probability\": np.squeeze(proba.numpy())[preds[0]]\n",
    "    }"
   ]
  },
  {
   "cell_type": "code",
   "execution_count": 29,
   "id": "1c9cf687",
   "metadata": {
    "execution": {
     "iopub.execute_input": "2024-04-09T09:45:59.303326Z",
     "iopub.status.busy": "2024-04-09T09:45:59.302895Z",
     "iopub.status.idle": "2024-04-09T09:45:59.309330Z",
     "shell.execute_reply": "2024-04-09T09:45:59.308431Z"
    },
    "id": "VatIqLzBiQzF",
    "outputId": "d7e51195-a68e-4983-ebb2-8f24a3be3f4d",
    "papermill": {
     "duration": 0.363674,
     "end_time": "2024-04-09T09:45:59.311270",
     "exception": false,
     "start_time": "2024-04-09T09:45:58.947596",
     "status": "completed"
    },
    "tags": []
   },
   "outputs": [],
   "source": [
    "def predict_random():\n",
    "    score = 0\n",
    "    x_test, y_test = test_data\n",
    "    indexes = np.random.choice(len(x_test), 10)\n",
    "    for i in indexes:\n",
    "        pred_dict = model.classify_sentence(x_test[i])\n",
    "        pred_dict[\"Actual\"] = label_encoder.inverse_transform(y_test[[i]])[0]\n",
    "        score += pred_dict[\"Predicted\"] == pred_dict[\"Actual\"]\n",
    "        print(pred_dict)\n",
    "    print(f\"\\nTotal Accuracy: {(score/10):.2%}\")"
   ]
  },
  {
   "cell_type": "code",
   "execution_count": 30,
   "id": "34478253",
   "metadata": {
    "execution": {
     "iopub.execute_input": "2024-04-09T09:46:00.058180Z",
     "iopub.status.busy": "2024-04-09T09:46:00.057481Z",
     "iopub.status.idle": "2024-04-09T09:46:00.419294Z",
     "shell.execute_reply": "2024-04-09T09:46:00.418287Z"
    },
    "papermill": {
     "duration": 0.746872,
     "end_time": "2024-04-09T09:46:00.421490",
     "exception": false,
     "start_time": "2024-04-09T09:45:59.674618",
     "status": "completed"
    },
    "tags": []
   },
   "outputs": [
    {
     "name": "stdout",
     "output_type": "stream",
     "text": [
      "{'Predicted': 'Positive', 'Probability': 0.5335887, 'Actual': 'Neutral'}\n",
      "{'Predicted': 'Negative', 'Probability': 0.66000813, 'Actual': 'Neutral'}\n",
      "{'Predicted': 'Positive', 'Probability': 0.9895566, 'Actual': 'Positive'}\n",
      "{'Predicted': 'Negative', 'Probability': 0.552717, 'Actual': 'Neutral'}\n",
      "{'Predicted': 'Negative', 'Probability': 0.9062601, 'Actual': 'Negative'}\n",
      "{'Predicted': 'Negative', 'Probability': 0.69101596, 'Actual': 'Negative'}\n",
      "{'Predicted': 'Negative', 'Probability': 0.94649476, 'Actual': 'Negative'}\n",
      "{'Predicted': 'Positive', 'Probability': 0.9868569, 'Actual': 'Positive'}\n",
      "{'Predicted': 'Negative', 'Probability': 0.82900476, 'Actual': 'Negative'}\n",
      "{'Predicted': 'Negative', 'Probability': 0.51150805, 'Actual': 'Positive'}\n",
      "\n",
      "Total Accuracy: 60.00%\n"
     ]
    }
   ],
   "source": [
    "predict_random()"
   ]
  },
  {
   "cell_type": "markdown",
   "id": "9458bf18",
   "metadata": {
    "papermill": {
     "duration": 0.348382,
     "end_time": "2024-04-09T09:46:01.120779",
     "exception": false,
     "start_time": "2024-04-09T09:46:00.772397",
     "status": "completed"
    },
    "tags": []
   },
   "source": [
    "<div style=\"background-color: black; width: 330px; padding: 10px; color: #edc111; font-size: 30px; border-radius: 10px;\n",
    "            margin-bottom: 2px;\">\n",
    "Quantitative Evaluation\n",
    "</div>"
   ]
  },
  {
   "cell_type": "code",
   "execution_count": 31,
   "id": "4d23dfac",
   "metadata": {
    "execution": {
     "iopub.execute_input": "2024-04-09T09:46:01.879947Z",
     "iopub.status.busy": "2024-04-09T09:46:01.879062Z",
     "iopub.status.idle": "2024-04-09T09:46:02.583487Z",
     "shell.execute_reply": "2024-04-09T09:46:02.582528Z"
    },
    "papermill": {
     "duration": 1.064942,
     "end_time": "2024-04-09T09:46:02.585633",
     "exception": false,
     "start_time": "2024-04-09T09:46:01.520691",
     "status": "completed"
    },
    "tags": []
   },
   "outputs": [
    {
     "data": {
      "image/png": "[encoded data removed]",
      "text/plain": [
       "<Figure size 900x400 with 2 Axes>"
      ]
     },
     "metadata": {},
     "output_type": "display_data"
    }
   ],
   "source": [
    "fig, axes = plt.subplots(nrows=1, ncols=2, figsize=(9, 4))\n",
    "\n",
    "axes[0].plot(history.history['loss'], label='Training Loss')\n",
    "axes[0].plot(history.history['val_loss'], label='Validation Loss')\n",
    "axes[0].set_title('Training and Validation Loss')\n",
    "axes[0].set_xlabel('Epoch')\n",
    "axes[0].set_ylabel('Loss')\n",
    "axes[0].legend()\n",
    "\n",
    "axes[1].plot(history.history['acc'], label='Training Accuracy')\n",
    "axes[1].plot(history.history['val_acc'], label='Validation Accuracy')\n",
    "axes[1].set_title('Training and Validation Accuracy')\n",
    "axes[1].set_xlabel('Epoch')\n",
    "axes[1].set_ylabel('Accuracy')\n",
    "axes[1].legend()\n",
    "\n",
    "plt.tight_layout()\n",
    "plt.show()\n"
   ]
  },
  {
   "cell_type": "code",
   "execution_count": 32,
   "id": "cd18ce69",
   "metadata": {
    "execution": {
     "iopub.execute_input": "2024-04-09T09:46:03.311430Z",
     "iopub.status.busy": "2024-04-09T09:46:03.311067Z",
     "iopub.status.idle": "2024-04-09T09:46:38.240366Z",
     "shell.execute_reply": "2024-04-09T09:46:38.239565Z"
    },
    "papermill": {
     "duration": 35.294438,
     "end_time": "2024-04-09T09:46:38.242525",
     "exception": false,
     "start_time": "2024-04-09T09:46:02.948087",
     "status": "completed"
    },
    "tags": []
   },
   "outputs": [
    {
     "name": "stdout",
     "output_type": "stream",
     "text": [
      "1573/1573 [==============================] - 24s 16ms/step - loss: 0.4616 - acc: 0.8122\n",
      "337/337 [==============================] - 5s 15ms/step - loss: 0.6325 - acc: 0.7362\n",
      "337/337 [==============================] - 5s 15ms/step - loss: 0.6368 - acc: 0.7318\n"
     ]
    },
    {
     "data": {
      "text/plain": [
       "[0.6368281245231628, 0.7317785620689392]"
      ]
     },
     "execution_count": 32,
     "metadata": {},
     "output_type": "execute_result"
    }
   ],
   "source": [
    "model.evaluate(train_ds)\n",
    "model.evaluate(val_ds)\n",
    "model.evaluate(test_ds)"
   ]
  },
  {
   "cell_type": "markdown",
   "id": "018bbe2b",
   "metadata": {
    "papermill": {
     "duration": 0.3969,
     "end_time": "2024-04-09T09:46:39.056777",
     "exception": false,
     "start_time": "2024-04-09T09:46:38.659877",
     "status": "completed"
    },
    "tags": []
   },
   "source": [
    "<div style=\"background-color: black; width: 720px; color: #edc111; font-size: 30px; padding: 10px; border-radius: 10px;\n",
    "            margin-bottom: 5px; margin-top: 20px;\">\n",
    "    Key Findings from the Analysis\n",
    "</div>\n",
    "<ul style=\"background-color: black; width: 700px; color: white; font-size: 15px; text-align: justify; padding: 10px; padding-left: 30px; border-radius: 10px;\">\n",
    "    <li><b>Model Performance on Test Set:</b> The transformer model achieved a test set loss of 0.613 and accuracy of 74.1%, indicating a reasonable level of generalization to unseen data.</li>\n",
    "    <li><b>Sentiment Analysis:</b> The sentiment analysis task successfully categorized fine food reviews into positive, negative, or neutral sentiments, providing valuable insights into customer opinions.</li>\n",
    "    <li><b>Data Preprocessing:</b> Effective data preprocessing and cleaning steps, including handling null values and removing duplicates, contributed to the model's overall performance.</li>\n",
    "    <li><b>Transformer Architecture:</b> The implementation of the transformer encoder block, incorporating positional encoding, multihead attention, layer normalization, and feedforward networks, demonstrated its effectiveness in capturing sequential dependencies.</li>\n",
    "    <li><b>Temporal Sentiment Analysis:</b> Analyzing sentiment trends over the 10-year period provided valuable insights into how sentiments towards fine foods on Amazon evolved.</li>\n",
    "</ul>\n"
   ]
  },
  {
   "cell_type": "markdown",
   "id": "0bd7f0ad",
   "metadata": {
    "papermill": {
     "duration": 0.459459,
     "end_time": "2024-04-09T09:46:39.939331",
     "exception": false,
     "start_time": "2024-04-09T09:46:39.479872",
     "status": "completed"
    },
    "tags": []
   },
   "source": [
    "<div style=\"background-color: black; width: 250px; color: #edc111; font-size: 40px; padding: 10px; border-radius: 10px;\n",
    "            margin-bottom: 5px; margin-top: 20px;\">\n",
    "    Thank You\n",
    "</div>"
   ]
  }
 ],
 "metadata": {
  "accelerator": "GPU",
  "colab": {
   "gpuType": "T4",
   "provenance": []
  },
  "kaggle": {
   "accelerator": "gpu",
   "dataSources": [
    {
     "datasetId": 18,
     "sourceId": 2157,
     "sourceType": "datasetVersion"
    }
   ],
   "dockerImageVersionId": 30635,
   "isGpuEnabled": true,
   "isInternetEnabled": true,
   "language": "python",
   "sourceType": "notebook"
  },
  "kernelspec": {
   "display_name": "Python 3",
   "language": "python",
   "name": "python3"
  },
  "language_info": {
   "codemirror_mode": {
    "name": "ipython",
    "version": 3
   },
   "file_extension": ".py",
   "mimetype": "text/x-python",
   "name": "python",
   "nbconvert_exporter": "python",
   "pygments_lexer": "ipython3",
   "version": "3.10.12"
  },
  "papermill": {
   "default_parameters": {},
   "duration": 597.896635,
   "end_time": "2024-04-09T09:46:43.818749",
   "environment_variables": {},
   "exception": null,
   "input_path": "__notebook__.ipynb",
   "output_path": "__notebook__.ipynb",
   "parameters": {},
   "start_time": "2024-04-09T09:36:45.922114",
   "version": "2.4.0"
  }
 },
 "nbformat": 4,
 "nbformat_minor": 5
}
